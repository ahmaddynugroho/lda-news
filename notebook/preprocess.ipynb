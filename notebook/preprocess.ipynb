{
 "cells": [
  {
   "cell_type": "code",
   "execution_count": 56,
   "metadata": {},
   "outputs": [],
   "source": [
    "import pandas as pd\n",
    "import pickle\n",
    "\n",
    "df = pd.read_csv('../data/all.csv')\n",
    "sw = pd.read_csv('../data/stopwords-id.csv')"
   ]
  },
  {
   "cell_type": "code",
   "execution_count": 4,
   "metadata": {},
   "outputs": [],
   "source": [
    "from mpstemmer import MPStemmer\n",
    "import string\n",
    "\n",
    "stemmer = MPStemmer()\n",
    "stemmer.check_nonstandard = False\n",
    "stem = stemmer.stem_kalimat\n",
    "\n",
    "translation = str.maketrans('', '', string.punctuation)\n",
    "sw_list = list(sw['stopword'])\n",
    "def preprocess(s):\n",
    "    clean = s.translate(translation)\n",
    "    stemmed = stem(clean)\n",
    "    stripped = stemmed.strip()\n",
    "    tokenized = stripped.split(' ')\n",
    "    sw_removed = [w for w in tokenized if w not in sw_list]\n",
    "    return sw_removed\n",
    "\n",
    "df['preprocessed'] = df['headline'].apply(preprocess)"
   ]
  },
  {
   "cell_type": "code",
   "execution_count": 57,
   "metadata": {},
   "outputs": [],
   "source": [
    "from gensim.models.phrases import Phrases, Phraser\n",
    "\n",
    "phrases2 = Phrases(df['preprocessed'], min_count=1, threshold=10)\n",
    "phrases3 = Phrases(phrases2[df['preprocessed']], threshold=100)\n",
    "\n",
    "bigram = Phraser(phrases2)\n",
    "trigram = Phraser(phrases3)"
   ]
  },
  {
   "cell_type": "code",
   "execution_count": 58,
   "metadata": {},
   "outputs": [],
   "source": [
    "df['preprocessed'] = list(trigram[df['preprocessed']])"
   ]
  },
  {
   "cell_type": "code",
   "execution_count": 97,
   "metadata": {},
   "outputs": [],
   "source": [
    "import pickle\n",
    "\n",
    "with open('../data/pickle/df.pickle', 'wb') as f:\n",
    "    pickle.dump(df, f)"
   ]
  },
  {
   "cell_type": "code",
   "execution_count": 61,
   "metadata": {},
   "outputs": [
    {
     "name": "stdout",
     "output_type": "stream",
     "text": [
      "               date                                           headline  \\\n",
      "0        2022-01-01  Jalur Telaga Sarangan Magetan Macet 2 KM, Semu...   \n",
      "1        2022-01-01  Penampakan Antrean Kendaraan di Gerbang Tol Ci...   \n",
      "2        2022-01-01  Modus Jadi Penumpang Taksi Online, Perampok di...   \n",
      "3        2022-01-01  Polisi Luruskan Kakek yang Dibunuh di Luwu Buk...   \n",
      "4        2022-01-01  Jalur Telaga Sarangan Magetan Macet hingga 2 K...   \n",
      "...             ...                                                ...   \n",
      "1198330  2022-12-05  Cara Tak Biasa Kylian Mbappe Jaga Fokus di Pia...   \n",
      "1198331  2022-12-05  Live Streaming SCTV, Inggris vs Senegal di Pia...   \n",
      "1198332  2022-12-05  Fakta Hasil Prancis vs Polandia di Piala Dunia...   \n",
      "1198333  2022-12-05  Cerita Seorang Ibu Gendong Dua Anak dan Bawa D...   \n",
      "1198334  2022-12-05  Hasil Prancis vs Polandia 3-1, Mbappe Menggila...   \n",
      "\n",
      "                                              preprocessed  \n",
      "0        [jalur, telaga_sarangan, magetan, macet, 2, km...  \n",
      "1        [penampakan, antre, kendara, gerbang_tol, cika...  \n",
      "2        [modus, tumpang, taksi_online, rampok, tangera...  \n",
      "3        [polisi, lurus, kakek, bunuh, luwu, imam_masji...  \n",
      "4        [jalur, telaga_sarangan, magetan, macet, 2, km...  \n",
      "...                                                    ...  \n",
      "1198330  [kylian_mbappe, jaga, fokus, piala_dunia, 2022...  \n",
      "1198331  [live_streaming, sctv, inggris, vs_senegal, pi...  \n",
      "1198332  [fakta, hasil, prancis, vs, polandia, piala_du...  \n",
      "1198333  [cerita, orang, gendong, anak, bawa, dokumen, ...  \n",
      "1198334  [hasil, prancis, vs, polandia, 31, mbappe, gil...  \n",
      "\n",
      "[1198335 rows x 3 columns]\n"
     ]
    }
   ],
   "source": [
    "print(df)"
   ]
  },
  {
   "cell_type": "code",
   "execution_count": 60,
   "metadata": {},
   "outputs": [
    {
     "name": "stdout",
     "output_type": "stream",
     "text": [
      "264388\n",
      "2022-06-03\n",
      "Perahu Nelayan di Kulon Progo Hampir Tenggelam karena Ombak, Diselamatkan Anggota SAR yang Sedang Siaga\n",
      "['perahu_nelayan', 'kulon_progo', 'tenggelam', 'ombak', 'selamat', 'anggota', 'sar', 'siaga']\n",
      "304632\n",
      "2022-07-16\n",
      "Timnas Basket Indonesia di FIBA Asia Cup 2022: Optimistis, Daya Juang Luar Biasa untuk Lawan Australia\n",
      "['timnas_basket', 'indonesia', 'fiba_asia', 'cup_2022', 'optimistis', 'daya', 'juang', 'lawan', 'australia']\n",
      "86280\n",
      "2022-10-03\n",
      "Catat! Ini Titik Lokasi Operasi Zebra di Jakarta Pusat\n",
      "['catat', 'titik', 'lokasi', 'operasi_zebra', 'jakarta', 'pusat']\n",
      "33318\n",
      "2022-04-05\n",
      "170 Napi di Lapas Rangkasbitung Ikuti Pesantren Kilat Ramadan\n",
      "['170', 'napi_lapas', 'rangkasbitung', 'ikuti', 'pesantren_kilat', 'ramadan']\n",
      "614424\n",
      "2022-09-27\n",
      "Tak Mau Degradasi, Timnas Republik Ceko Bakal Tampil Mati-matian saat Hadapi Swiss\n",
      "['degradasi', 'timnas', 'republik_ceko', 'tampil', 'matimatian', 'hadap', 'swiss']\n",
      "1048736\n",
      "2022-05-18\n",
      "Dubes RI: UAS Ditolak Masuk ke Singapura karena Dikhawatirkan Ganggu Kerukunan Antar Ras dan Agama\n",
      "['dubes_ri', 'uas_tolak', 'masuk', 'singapura', 'khawatir', 'ganggu', 'rukun', 'ras', 'agama']\n",
      "895720\n",
      "2022-05-26\n",
      "Anggaran Pemilu 2024 Diusulkan Rp 76,6 Triliun, Ini Rinciannya\n",
      "['anggar_milu', '2024', 'usul', 'rp_766', 'triliun', 'rinci']\n",
      "371533\n",
      "2022-09-22\n",
      "Pengamat Sebut Jejak \"Private Jet\" Diduga Dipakai Brigjen Hendra Kurniawan Tercatat di Air Nav\n",
      "['jejak', 'private_jet', 'duga', 'pakai', 'brigjen_hendra', 'kurniawan', 'catat', 'air', 'nav']\n",
      "73698\n",
      "2022-08-24\n",
      "Walkot Depok Mau Rilis Lagu, Anggota DPRD: Semoga Suaranya Enak Didengar\n",
      "['walkot_depok', 'rilis', 'lagu', 'anggota_dprd', 'moga', 'suara', 'enak', 'dengar']\n",
      "15856\n",
      "2022-02-09\n",
      "Komnas HAM Upayakan Mediasi Kasus Wadas\n",
      "['komnas_ham', 'upaya', 'mediasi', 'wadas']\n",
      "132989\n",
      "2022-01-19\n",
      "Bantu Pemerintah Pulihkan Ekonomi, BRI Sosialisasikan PPS kepada Nasabah\n",
      "['bantu', 'perin', 'pulih_ekonomi', 'bri', 'sosialisasi', 'pps', 'nasabah']\n",
      "176809\n",
      "2022-03-29\n",
      "Barang Milik Negara yang Diserahkan Kementerian PUPR dalam 3 Tahun Senilai Rp 266.3 Triliun\n",
      "['barang', 'milik', 'negara', 'serah', 'menteri_pupr', '3', 'nila_rp', '2663', 'triliun']\n",
      "321944\n",
      "2022-07-13\n",
      "Zulhas Kampanye Pilih Anaknya, Jokowi Minta Fokus Kerja hingga Peringatan soal Etika Politik\n",
      "['zulhas', 'kampanye', 'pilih', 'anak', 'jokowi', 'fokus', 'kerja', 'etika_politik']\n",
      "1125808\n",
      "2022-09-11\n",
      "Sinopsis Film 9/11, Kisah 5 Orang Terjebak di Lift saat Serangan 11 September di Twin Towers WTC\n",
      "['sinopsis_film', '911', 'kisah', '5', 'orang', 'jebak_lift', 'serang', '11', 'september', 'twin', 'towers', 'wtc']\n",
      "593287\n",
      "2022-08-08\n",
      "Hukuman Mati di Iran, Mengapa Negara Ini Mengeksekusi Perempuan Lebih Banyak dari Negara Lain?\n",
      "['hukum', 'mati', 'iran', 'negara', 'eksekusi', 'perempuan', 'negara']\n",
      "285801\n",
      "2022-06-13\n",
      "3 Program Politik Etis atau Politik Balas Budi\n",
      "['3', 'program', 'politik', 'etis', 'politik', 'balas_budi']\n",
      "226655\n",
      "2022-04-05\n",
      "Nilai Transaksi \"E-commerce\" RI Tembus Rp 30,8 Triliun Per Februari 2022\n",
      "['nilai', 'transaksi_ecommerce', 'ri', 'tembus_rp', '308', 'triliun', 'februari', '2022']\n",
      "1181394\n",
      "2022-12-09\n",
      "Daftar UMP, UMK, UMR Kabupaten Blitar, Jawa Timur Tahun 2023: Naik Jadi Rp 2.215.071\n",
      "['daftar_ump', 'umk_umr', 'kabupaten', 'blitar', 'jawa_timur', '2023', 'rp', '2215071']\n",
      "525976\n",
      "2022-04-25\n",
      "Pita Sosok Guru Honorer, 'Sulap' Kerupuk Kulit Go Internasional\n",
      "['pita', 'sosok', 'guru_honorer', 'sulap', 'kerupuk', 'kulit', 'go_internasional']\n",
      "1145668\n",
      "2022-10-26\n",
      "Tiket Konser Slank Beautiful Smile Indonesia Tour Sudah Bisa Dibeli, Ini Harganya\n",
      "['tiket_konser', 'slank', 'beautiful', 'smile', 'indonesia', 'tour', 'beli', 'harga']\n"
     ]
    }
   ],
   "source": [
    "import random\n",
    "\n",
    "for i in range(20):\n",
    "    n = random.randint(0, len(df))\n",
    "    print(n)\n",
    "    print(df['date'][n])\n",
    "    print(df['headline'][n])\n",
    "    print(df['preprocessed'][n])"
   ]
  }
 ],
 "metadata": {
  "kernelspec": {
   "display_name": ".venv",
   "language": "python",
   "name": "python3"
  },
  "language_info": {
   "codemirror_mode": {
    "name": "ipython",
    "version": 3
   },
   "file_extension": ".py",
   "mimetype": "text/x-python",
   "name": "python",
   "nbconvert_exporter": "python",
   "pygments_lexer": "ipython3",
   "version": "3.10.6"
  },
  "orig_nbformat": 4
 },
 "nbformat": 4,
 "nbformat_minor": 2
}
