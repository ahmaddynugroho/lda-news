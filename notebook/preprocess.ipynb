{
 "cells": [
  {
   "cell_type": "code",
   "execution_count": 2,
   "metadata": {},
   "outputs": [],
   "source": [
    "import pickle\n",
    "\n",
    "import pandas as pd\n",
    "\n",
    "PATH_DF_CACHED = '../.cache/df.pickle'\n",
    "PATH_DF = '../dist/all.csv'\n",
    "PATH_SW = './stopwords-id.csv' # Stop Words ISO\n",
    "\n",
    "# with open(PATH_DF_CACHED, 'rb') as f:\n",
    "#     df = pickle.load(f)\n",
    "\n",
    "df = pd.read_csv(PATH_DF)\n",
    "sw = pd.read_csv(PATH_SW)\n"
   ]
  },
  {
   "cell_type": "code",
   "execution_count": 3,
   "metadata": {},
   "outputs": [],
   "source": [
    "from mpstemmer import MPStemmer\n",
    "import string\n",
    "\n",
    "stemmer = MPStemmer()\n",
    "stemmer.check_nonstandard = False\n",
    "stem = stemmer.stem_kalimat\n",
    "\n",
    "translation = str.maketrans('', '', string.punctuation)\n",
    "sw_list = list(sw['stopword'])\n",
    "def preprocess(s):\n",
    "    clean = s.translate(translation)\n",
    "    stemmed = stem(clean)\n",
    "    stripped = stemmed.strip()\n",
    "    tokenized = stripped.split(' ')\n",
    "    sw_removed = [w for w in tokenized if w not in sw_list and w.isalpha()]\n",
    "    return sw_removed\n",
    "\n",
    "df['preprocessed'] = df['headline'].apply(preprocess)"
   ]
  },
  {
   "cell_type": "code",
   "execution_count": 4,
   "metadata": {},
   "outputs": [],
   "source": [
    "from gensim.models.phrases import Phrases, Phraser\n",
    "\n",
    "phrases2 = Phrases(df['preprocessed'], min_count=1, threshold=10)\n",
    "phrases3 = Phrases(phrases2[df['preprocessed']], threshold=100)\n",
    "\n",
    "bigram = Phraser(phrases2)\n",
    "trigram = Phraser(phrases3)\n",
    "\n",
    "df['preprocessed'] = list(trigram[df['preprocessed']])"
   ]
  },
  {
   "cell_type": "code",
   "execution_count": 5,
   "metadata": {},
   "outputs": [],
   "source": [
    "with open(PATH_DF_CACHED, 'wb') as f:\n",
    "    pickle.dump(df, f)"
   ]
  },
  {
   "cell_type": "code",
   "execution_count": 8,
   "metadata": {},
   "outputs": [
    {
     "name": "stdout",
     "output_type": "stream",
     "text": [
      "963551\n",
      "2022-12-22\n",
      "Gempa Terkini di Kuningan, Giliran Sesar Baribis Guncang Jawa Barat\n",
      "['gempa', 'kuningan', 'gilir', 'sesar_baribis', 'guncang', 'jawa_barat']\n",
      "798902\n",
      "2022-09-02\n",
      "Kasus Covid-19 di Indonesia Hari Ini Bertambah 3.616, Meninggal 17 Orang\n",
      "['indonesia', 'tinggal', 'orang']\n",
      "274568\n",
      "2022-06-14\n",
      "Irit Bicara Usai Diperiksa KPK, Kadis PUPR Kabupaten Bogor: Saya Takut Salah Jawab\n",
      "['irit_bicara', 'periksa', 'kpk', 'kadis_pupr', 'kabupaten_bogor', 'takut', 'salah']\n",
      "862191\n",
      "2022-02-07\n",
      "Ada Daur Ulang Sampah Plastik Jaring Ikan di Seri Galaxy S22 Rilis Rabu\n",
      "['daur_ulang', 'sampah_plastik', 'jaring', 'ikan', 'seri', 'galaxy', 'rilis', 'rabu']\n",
      "711566\n",
      "2022-02-25\n",
      "Gempa Terkini Magnitudo 6,2 Pasaman Barat, BMKG: Dipicu Aktivitas Sesar Besar Sumatera\n",
      "['gempa_magnitudo', 'pasaman_barat', 'bmkg', 'picu', 'aktivitas_sesar', 'sumatera']\n",
      "202691\n",
      "2022-03-30\n",
      "Link Live Streaming Portugal Vs Makedonia Utara, Kickoff 01.45 WIB\n",
      "['link_live', 'streaming', 'portugal_vs', 'makedonia_utara', 'kickoff_wib']\n",
      "941368\n",
      "2022-10-22\n",
      "Hakim AS: Penumpang Lion Air JT 610 yang Jatuh 2018 sebagai Korban Kejahatan\n",
      "['hakim', 'as', 'tumpang_lion', 'air', 'jt', 'jatuh', 'korban', 'jahat']\n",
      "1071932\n",
      "2022-06-28\n",
      "Video Delvia Jadi Relawan Rumah Makan Gratis Blitar Viral, Ingin Buat Orang Tergerak untuk Donasi\n",
      "['video', 'delvia', 'relawan', 'rumah', 'makan', 'gratis', 'blitar', 'viral', 'orang', 'gerak', 'donasi']\n",
      "642242\n",
      "2022-10-28\n",
      "5 Artis yang Sering Dikira Muslim, Kerap Pakai Hijab hingga Belajar Mengaji\n",
      "['artis', 'muslim', 'kerap', 'pakai', 'hijab', 'ajar', 'aji']\n",
      "916987\n",
      "2022-08-06\n",
      "DKI Jakarta Promosi Wisata Golf ke 4 Kota Asia, Tokyo dan Seoul di Antaranya\n",
      "['dki_jakarta', 'promosi', 'wisata', 'golf', 'kota', 'asia', 'tokyo', 'seoul']\n"
     ]
    }
   ],
   "source": [
    "import random\n",
    "\n",
    "for i in range(10):\n",
    "    n = random.randint(0, len(df))\n",
    "    print(n)\n",
    "    print(df['date'][n])\n",
    "    print(df['headline'][n])\n",
    "    print(df['preprocessed'][n])"
   ]
  }
 ],
 "metadata": {
  "kernelspec": {
   "display_name": ".venv",
   "language": "python",
   "name": "python3"
  },
  "language_info": {
   "codemirror_mode": {
    "name": "ipython",
    "version": 3
   },
   "file_extension": ".py",
   "mimetype": "text/x-python",
   "name": "python",
   "nbconvert_exporter": "python",
   "pygments_lexer": "ipython3",
   "version": "3.10.6"
  },
  "orig_nbformat": 4
 },
 "nbformat": 4,
 "nbformat_minor": 2
}
