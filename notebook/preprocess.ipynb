{
 "cells": [
  {
   "cell_type": "code",
   "execution_count": 1,
   "metadata": {},
   "outputs": [],
   "source": [
    "import pandas as pd\n",
    "\n",
    "df = pd.read_csv('../dist/h.csv')\n",
    "df_sw = pd.read_csv('./stopwords-id.csv')\n"
   ]
  },
  {
   "cell_type": "code",
   "execution_count": 60,
   "metadata": {},
   "outputs": [],
   "source": [
    "from mpstemmer import MPStemmer\n",
    "import string\n",
    "\n",
    "stemmer = MPStemmer()\n",
    "stemmer.check_nonstandard = False\n",
    "stem = stemmer.stem_kalimat\n",
    "\n",
    "translation = str.maketrans('', '', string.punctuation)\n",
    "sw = list(df_sw['stopword'])\n",
    "def preprocess(s):\n",
    "    clean = s.translate(translation)\n",
    "    stemmed = stem(clean)\n",
    "    stripped = stemmed.strip()\n",
    "    tokenized = stripped.split(' ')\n",
    "    return tokenized\n",
    "\n",
    "df['preprocessed'] = df['headline'].apply(preprocess)"
   ]
  },
  {
   "cell_type": "code",
   "execution_count": 61,
   "metadata": {},
   "outputs": [],
   "source": [
    "from gensim.models.phrases import Phrases, Phraser\n",
    "\n",
    "phrases2 = Phrases(df['preprocessed'], min_count=1, threshold=10)\n",
    "phrases3 = Phrases(phrases2[df['preprocessed']], threshold=100)\n",
    "\n",
    "bigram = Phraser(phrases2)\n",
    "trigram = Phraser(phrases3)\n",
    "\n",
    "df['preprocessed'] = list(trigram[df['preprocessed']])"
   ]
  },
  {
   "cell_type": "code",
   "execution_count": 62,
   "metadata": {},
   "outputs": [],
   "source": [
    "def remove_numeric_token(token):\n",
    "    return [w for w in token if w not in sw and not w.isnumeric()]\n",
    "\n",
    "df['preprocessed'] = df['preprocessed'].apply(remove_numeric_token)"
   ]
  },
  {
   "cell_type": "code",
   "execution_count": 86,
   "metadata": {},
   "outputs": [],
   "source": [
    "df.to_parquet('../dist/hp.parquet')"
   ]
  }
 ],
 "metadata": {
  "kernelspec": {
   "display_name": ".venv",
   "language": "python",
   "name": "python3"
  },
  "language_info": {
   "codemirror_mode": {
    "name": "ipython",
    "version": 3
   },
   "file_extension": ".py",
   "mimetype": "text/x-python",
   "name": "python",
   "nbconvert_exporter": "python",
   "pygments_lexer": "ipython3",
   "version": "3.10.6"
  },
  "orig_nbformat": 4
 },
 "nbformat": 4,
 "nbformat_minor": 2
}
