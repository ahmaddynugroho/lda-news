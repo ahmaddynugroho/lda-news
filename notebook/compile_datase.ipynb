{
 "cells": [
  {
   "cell_type": "code",
   "execution_count": 2,
   "metadata": {},
   "outputs": [],
   "source": [
    "import pandas as pd\n",
    "\n",
    "df = {\n",
    "    'detik': pd.read_csv('../data/detik.csv'),\n",
    "    'kompas': pd.read_csv('../data/kompas.csv'),\n",
    "    'okezone': pd.read_csv('../data/okezone.csv'),\n",
    "    'sindonews': pd.read_csv('../data/sindonews.csv'),\n",
    "    'tempo': pd.read_csv('../data/tempo.csv'),\n",
    "    'tribunnews': pd.read_csv('../data/tribunnews.csv'),\n",
    "}"
   ]
  },
  {
   "cell_type": "code",
   "execution_count": 4,
   "metadata": {},
   "outputs": [
    {
     "data": {
      "text/html": [
       "<div>\n",
       "<style scoped>\n",
       "    .dataframe tbody tr th:only-of-type {\n",
       "        vertical-align: middle;\n",
       "    }\n",
       "\n",
       "    .dataframe tbody tr th {\n",
       "        vertical-align: top;\n",
       "    }\n",
       "\n",
       "    .dataframe thead th {\n",
       "        text-align: right;\n",
       "    }\n",
       "</style>\n",
       "<table border=\"1\" class=\"dataframe\">\n",
       "  <thead>\n",
       "    <tr style=\"text-align: right;\">\n",
       "      <th></th>\n",
       "      <th>date</th>\n",
       "      <th>headline</th>\n",
       "    </tr>\n",
       "  </thead>\n",
       "  <tbody>\n",
       "    <tr>\n",
       "      <th>0</th>\n",
       "      <td>2022-01-01</td>\n",
       "      <td>Jalur Telaga Sarangan Magetan Macet 2 KM, Semu...</td>\n",
       "    </tr>\n",
       "    <tr>\n",
       "      <th>1</th>\n",
       "      <td>2022-01-01</td>\n",
       "      <td>Penampakan Antrean Kendaraan di Gerbang Tol Ci...</td>\n",
       "    </tr>\n",
       "    <tr>\n",
       "      <th>2</th>\n",
       "      <td>2022-01-01</td>\n",
       "      <td>Modus Jadi Penumpang Taksi Online, Perampok di...</td>\n",
       "    </tr>\n",
       "    <tr>\n",
       "      <th>3</th>\n",
       "      <td>2022-01-01</td>\n",
       "      <td>Polisi Luruskan Kakek yang Dibunuh di Luwu Buk...</td>\n",
       "    </tr>\n",
       "    <tr>\n",
       "      <th>4</th>\n",
       "      <td>2022-01-01</td>\n",
       "      <td>Jalur Telaga Sarangan Magetan Macet hingga 2 K...</td>\n",
       "    </tr>\n",
       "    <tr>\n",
       "      <th>...</th>\n",
       "      <td>...</td>\n",
       "      <td>...</td>\n",
       "    </tr>\n",
       "    <tr>\n",
       "      <th>1198330</th>\n",
       "      <td>2022-12-05</td>\n",
       "      <td>Cara Tak Biasa Kylian Mbappe Jaga Fokus di Pia...</td>\n",
       "    </tr>\n",
       "    <tr>\n",
       "      <th>1198331</th>\n",
       "      <td>2022-12-05</td>\n",
       "      <td>Live Streaming SCTV, Inggris vs Senegal di Pia...</td>\n",
       "    </tr>\n",
       "    <tr>\n",
       "      <th>1198332</th>\n",
       "      <td>2022-12-05</td>\n",
       "      <td>Fakta Hasil Prancis vs Polandia di Piala Dunia...</td>\n",
       "    </tr>\n",
       "    <tr>\n",
       "      <th>1198333</th>\n",
       "      <td>2022-12-05</td>\n",
       "      <td>Cerita Seorang Ibu Gendong Dua Anak dan Bawa D...</td>\n",
       "    </tr>\n",
       "    <tr>\n",
       "      <th>1198334</th>\n",
       "      <td>2022-12-05</td>\n",
       "      <td>Hasil Prancis vs Polandia 3-1, Mbappe Menggila...</td>\n",
       "    </tr>\n",
       "  </tbody>\n",
       "</table>\n",
       "<p>1198335 rows × 2 columns</p>\n",
       "</div>"
      ],
      "text/plain": [
       "               date                                           headline\n",
       "0        2022-01-01  Jalur Telaga Sarangan Magetan Macet 2 KM, Semu...\n",
       "1        2022-01-01  Penampakan Antrean Kendaraan di Gerbang Tol Ci...\n",
       "2        2022-01-01  Modus Jadi Penumpang Taksi Online, Perampok di...\n",
       "3        2022-01-01  Polisi Luruskan Kakek yang Dibunuh di Luwu Buk...\n",
       "4        2022-01-01  Jalur Telaga Sarangan Magetan Macet hingga 2 K...\n",
       "...             ...                                                ...\n",
       "1198330  2022-12-05  Cara Tak Biasa Kylian Mbappe Jaga Fokus di Pia...\n",
       "1198331  2022-12-05  Live Streaming SCTV, Inggris vs Senegal di Pia...\n",
       "1198332  2022-12-05  Fakta Hasil Prancis vs Polandia di Piala Dunia...\n",
       "1198333  2022-12-05  Cerita Seorang Ibu Gendong Dua Anak dan Bawa D...\n",
       "1198334  2022-12-05  Hasil Prancis vs Polandia 3-1, Mbappe Menggila...\n",
       "\n",
       "[1198335 rows x 2 columns]"
      ]
     },
     "execution_count": 4,
     "metadata": {},
     "output_type": "execute_result"
    }
   ],
   "source": [
    "dfc = pd.concat(df, ignore_index=True)\n",
    "dfc"
   ]
  },
  {
   "cell_type": "code",
   "execution_count": null,
   "metadata": {},
   "outputs": [],
   "source": [
    "dfc.to_csv('../data/all.csv', index=False)"
   ]
  }
 ],
 "metadata": {
  "kernelspec": {
   "display_name": ".venv",
   "language": "python",
   "name": "python3"
  },
  "language_info": {
   "codemirror_mode": {
    "name": "ipython",
    "version": 3
   },
   "file_extension": ".py",
   "mimetype": "text/x-python",
   "name": "python",
   "nbconvert_exporter": "python",
   "pygments_lexer": "ipython3",
   "version": "3.10.6"
  },
  "orig_nbformat": 4
 },
 "nbformat": 4,
 "nbformat_minor": 2
}
